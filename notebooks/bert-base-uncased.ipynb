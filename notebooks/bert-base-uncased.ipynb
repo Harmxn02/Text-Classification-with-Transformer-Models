{
 "cells": [
  {
   "cell_type": "markdown",
   "metadata": {},
   "source": [
    "# Text Classification with Pre-Trained Transformer Models\n"
   ]
  },
  {
   "cell_type": "code",
   "execution_count": 1,
   "metadata": {},
   "outputs": [],
   "source": [
    "model_name = \"google-bert/bert-base-uncased\""
   ]
  },
  {
   "cell_type": "code",
   "execution_count": 2,
   "metadata": {},
   "outputs": [],
   "source": [
    "import pandas as pd\n",
    "\n",
    "train_df = pd.read_csv(\"../Recipes_Training.csv\", delimiter=\";\")\n",
    "test_df = pd.read_csv(\"../Recipes_Test.csv\", delimiter=\";\")"
   ]
  },
  {
   "cell_type": "markdown",
   "metadata": {},
   "source": [
    "## 1. Dataset preprocessing"
   ]
  },
  {
   "cell_type": "code",
   "execution_count": 3,
   "metadata": {},
   "outputs": [],
   "source": [
    "from sklearn.preprocessing import LabelEncoder"
   ]
  },
  {
   "cell_type": "code",
   "execution_count": 4,
   "metadata": {},
   "outputs": [
    {
     "data": {
      "text/plain": [
       "array(['cajun_creole', 'chinese', 'french', 'indian', 'italian',\n",
       "       'mexican', 'southern_us', 'thai'], dtype=object)"
      ]
     },
     "execution_count": 4,
     "metadata": {},
     "output_type": "execute_result"
    }
   ],
   "source": [
    "# Convert the list of ingredients to a string for each row\n",
    "train_df[\"ingredients_str\"] = train_df[\"ingredients\"].apply(lambda x: \" \".join(eval(x)))\n",
    "test_df[\"ingredients_str\"] = test_df[\"ingredients\"].apply(lambda x: \" \".join(eval(x)))\n",
    "\n",
    "# Encode the cuisine label using LabelEncoder\n",
    "label_encoder = LabelEncoder()\n",
    "train_df[\"label\"] = label_encoder.fit_transform(train_df[\"cuisine\"])\n",
    "test_df[\"label\"] = label_encoder.transform(test_df[\"cuisine\"])\n",
    "\n",
    "# Check the label encoding\n",
    "label_encoder.classes_"
   ]
  },
  {
   "cell_type": "markdown",
   "metadata": {},
   "source": [
    "## 2. Dataset preparation"
   ]
  },
  {
   "cell_type": "code",
   "execution_count": 5,
   "metadata": {},
   "outputs": [
    {
     "name": "stderr",
     "output_type": "stream",
     "text": [
      "c:\\Users\\Harman\\AppData\\Local\\Programs\\Python\\Python312\\Lib\\site-packages\\tqdm\\auto.py:21: TqdmWarning: IProgress not found. Please update jupyter and ipywidgets. See https://ipywidgets.readthedocs.io/en/stable/user_install.html\n",
      "  from .autonotebook import tqdm as notebook_tqdm\n",
      "c:\\Users\\Harman\\AppData\\Local\\Programs\\Python\\Python312\\Lib\\site-packages\\huggingface_hub\\file_download.py:147: UserWarning: `huggingface_hub` cache-system uses symlinks by default to efficiently store duplicated files but your machine does not support them in C:\\Users\\Harman\\.cache\\huggingface\\hub\\models--google-bert--bert-base-uncased. Caching files will still work but in a degraded version that might require more space on your disk. This warning can be disabled by setting the `HF_HUB_DISABLE_SYMLINKS_WARNING` environment variable. For more details, see https://huggingface.co/docs/huggingface_hub/how-to-cache#limitations.\n",
      "To support symlinks on Windows, you either need to activate Developer Mode or to run Python as an administrator. In order to activate developer mode, see this article: https://docs.microsoft.com/en-us/windows/apps/get-started/enable-your-device-for-development\n",
      "  warnings.warn(message)\n",
      "Some weights of BertForSequenceClassification were not initialized from the model checkpoint at google-bert/bert-base-uncased and are newly initialized: ['classifier.bias', 'classifier.weight']\n",
      "You should probably TRAIN this model on a down-stream task to be able to use it for predictions and inference.\n"
     ]
    }
   ],
   "source": [
    "from transformers import AutoTokenizer, AutoModelForSequenceClassification\n",
    "\n",
    "tokenizer = AutoTokenizer.from_pretrained(model_name)\n",
    "model = AutoModelForSequenceClassification.from_pretrained(model_name, num_labels=len(label_encoder.classes_))"
   ]
  },
  {
   "cell_type": "code",
   "execution_count": 6,
   "metadata": {},
   "outputs": [],
   "source": [
    "import torch\n",
    "from torch.utils.data import Dataset, DataLoader"
   ]
  },
  {
   "cell_type": "code",
   "execution_count": 7,
   "metadata": {},
   "outputs": [],
   "source": [
    "class CuisineDataset(Dataset):\n",
    "\tdef __init__(self, df, tokenizer, max_len):\n",
    "\t\tself.ingredients = df[\"ingredients_str\"].values\n",
    "\t\tself.labels = df[\"label\"].values\n",
    "\t\tself.tokenizer = tokenizer\n",
    "\t\tself.max_len = max_len\n",
    "\t\n",
    "\tdef __len__(self):\n",
    "\t\treturn len(self.ingredients)\n",
    "\t\n",
    "\tdef __getitem__(self, idx):\n",
    "\t\tingredient = self.ingredients[idx]\n",
    "\t\tlabel = self.labels[idx]\n",
    "\t\t\n",
    "\t\tencoding = self.tokenizer.encode_plus(\n",
    "\t\t\tingredient,\n",
    "\t\t\ttruncation=True,\n",
    "\t\t\tadd_special_tokens=True,\n",
    "\t\t\tmax_length=self.max_len,\n",
    "\t\t\treturn_token_type_ids=False,\n",
    "\t\t\tpadding=\"max_length\",\n",
    "\t\t\treturn_attention_mask=True,\n",
    "\t\t\treturn_tensors=\"pt\",\n",
    "\t\t)\n",
    "\t\t\n",
    "\t\treturn {\n",
    "\t\t\t\"input_ids\": encoding[\"input_ids\"].flatten(),\n",
    "\t\t\t\"attention_mask\": encoding[\"attention_mask\"].flatten(),\n",
    "\t\t\t\"label\": torch.tensor(label, dtype=torch.long)\n",
    "\t\t}\n",
    "\n",
    "MAX_LEN = 128\n",
    "BATCH_SIZE = 16\n",
    "\n",
    "# Create the datasets\n",
    "train_dataset = CuisineDataset(train_df, tokenizer, MAX_LEN)\n",
    "test_dataset = CuisineDataset(test_df, tokenizer, MAX_LEN)\n",
    "\n",
    "# Create the dataloaders\n",
    "train_dataloader = DataLoader(train_dataset, batch_size=BATCH_SIZE, shuffle=True)\n",
    "test_dataloader = DataLoader(test_dataset, batch_size=BATCH_SIZE, shuffle=False)"
   ]
  },
  {
   "cell_type": "markdown",
   "metadata": {},
   "source": [
    "## 4. Fine-tune a Pre-trained Transformer Model"
   ]
  },
  {
   "cell_type": "code",
   "execution_count": 8,
   "metadata": {},
   "outputs": [],
   "source": [
    "from transformers import DistilBertForSequenceClassification, AdamW\n",
    "from torch.optim import Adam\n",
    "from torch.nn import CrossEntropyLoss\n",
    "from sklearn.metrics import accuracy_score"
   ]
  },
  {
   "cell_type": "code",
   "execution_count": 9,
   "metadata": {},
   "outputs": [
    {
     "name": "stdout",
     "output_type": "stream",
     "text": [
      "Using device: cuda\n"
     ]
    }
   ],
   "source": [
    "# Move the model to the GPU\n",
    "device = torch.device(\"cuda\" if torch.cuda.is_available() else \"cpu\")\n",
    "print(f\"Using device: {device}\")\n",
    "\n",
    "model = model.to(device)"
   ]
  },
  {
   "cell_type": "code",
   "execution_count": 10,
   "metadata": {},
   "outputs": [
    {
     "name": "stderr",
     "output_type": "stream",
     "text": [
      "c:\\Users\\Harman\\AppData\\Local\\Programs\\Python\\Python312\\Lib\\site-packages\\transformers\\optimization.py:591: FutureWarning: This implementation of AdamW is deprecated and will be removed in a future version. Use the PyTorch implementation torch.optim.AdamW instead, or set `no_deprecation_warning=True` to disable this warning\n",
      "  warnings.warn(\n"
     ]
    }
   ],
   "source": [
    "# Set up the optimizer and loss function\n",
    "optimizer = AdamW(model.parameters(), lr=1e-5)\n",
    "loss_fn = CrossEntropyLoss().to(device)"
   ]
  },
  {
   "cell_type": "markdown",
   "metadata": {},
   "source": [
    "## 5. Train the Model"
   ]
  },
  {
   "cell_type": "code",
   "execution_count": 11,
   "metadata": {},
   "outputs": [
    {
     "name": "stdout",
     "output_type": "stream",
     "text": [
      "Epoch 1/3 [8000/8000] - train_loss: 1.143 ; train_acc: 0.630\n",
      "Epoch 2/3 [8000/8000] - train_loss: 0.597 ; train_acc: 0.811\n",
      "Epoch 3/3 [8000/8000] - train_loss: 0.486 ; train_acc: 0.843\n"
     ]
    }
   ],
   "source": [
    "import sys\n",
    "\n",
    "def train_epoch(epoch, model, data_loader, loss_fn, optimizer, device, total_epochs):\n",
    "\tmodel.train()\n",
    "\n",
    "\t# Initialize variables to track loss and accuracy\n",
    "\ttotal_loss = 0\n",
    "\tcorrect_predictions = 0\n",
    "\n",
    "\t# Get the number of steps and total dataset size\n",
    "\ttotal_steps = len(data_loader)\n",
    "\tdataset_size = len(data_loader.dataset)\n",
    "\n",
    "\t# current epoch, which we will log\n",
    "\tcurrent_epoch = epoch + 1\n",
    "\n",
    "\t# Iterate through each batch in the data loader\n",
    "\tfor batch_idx, batch in enumerate(data_loader):\n",
    "\t\t\n",
    "\t\t# Calculate current sample index\n",
    "\t\tcurrent_sample = batch_idx * data_loader.batch_size + len(batch[\"input_ids\"])\n",
    "\n",
    "\t\t# Calculate the progress and display it\n",
    "\t\tsys.stdout.write(f'\\rEpoch {current_epoch}/{EPOCHS} [{current_sample}/{dataset_size}]')\n",
    "\t\tsys.stdout.flush()\n",
    "\n",
    "\t\t# Move input data and labesl to the GPU\n",
    "\t\tinput_ids = batch['input_ids'].to(device)\n",
    "\t\tattention_mask = batch['attention_mask'].to(device)\n",
    "\t\tlabels = batch['label'].to(device)\n",
    "\n",
    "\t\t# Zero the gradients for the optimizer\n",
    "\t\toptimizer.zero_grad()\n",
    "\n",
    "\t\t# Forward pass through the model\n",
    "\t\toutputs = model(input_ids=input_ids, attention_mask=attention_mask, labels=labels)\n",
    "\t\tloss = outputs.loss\n",
    "\t\tlogits = outputs.logits\n",
    "\n",
    "\t\t# Backward pass and optimization step\n",
    "\t\tloss.backward()\n",
    "\t\toptimizer.step()\n",
    "\t\t\n",
    "\t\t# Update total loss\n",
    "\t\ttotal_loss += loss.item()\n",
    "\n",
    "\t\t# Calculate accuracy for the current batch\n",
    "\t\t_, preds = torch.max(logits, dim=1)\n",
    "\t\tcorrect_predictions += torch.sum(preds == labels)\n",
    "\n",
    "\tavg_accuracy = correct_predictions.double() / dataset_size\n",
    "\tavg_loss = total_loss / total_steps\n",
    "\t\n",
    "\tsys.stdout.write(f'\\rEpoch {current_epoch}/{total_epochs} [{dataset_size}/{dataset_size}] - train_loss: {avg_loss:.3f} ; train_acc: {avg_accuracy:.3f}\\n')\n",
    "\tsys.stdout.flush()\n",
    "\n",
    "\treturn avg_accuracy, avg_loss\n",
    "\n",
    "\n",
    "#* Main training loop\n",
    "EPOCHS = 3\n",
    "for epoch in range(EPOCHS):\n",
    "\ttrain_acc, train_loss = train_epoch(epoch, model, train_dataloader, loss_fn, optimizer, device, EPOCHS)"
   ]
  },
  {
   "cell_type": "markdown",
   "metadata": {},
   "source": [
    "## 6. Evaluation"
   ]
  },
  {
   "cell_type": "code",
   "execution_count": 12,
   "metadata": {},
   "outputs": [
    {
     "name": "stdout",
     "output_type": "stream",
     "text": [
      "test_acc: 0.883 ; test_loss: 0.371, test_f1: 0.883\n",
      "\n",
      "              precision    recall  f1-score   support\n",
      "\n",
      "cajun_creole       0.80      0.88      0.84       250\n",
      "     chinese       0.94      0.92      0.93       250\n",
      "      french       0.90      0.80      0.85       250\n",
      "      indian       0.95      0.96      0.96       250\n",
      "     italian       0.88      0.85      0.87       250\n",
      "     mexican       0.95      0.91      0.93       250\n",
      " southern_us       0.73      0.83      0.78       250\n",
      "        thai       0.93      0.90      0.91       250\n",
      "\n",
      "    accuracy                           0.88      2000\n",
      "   macro avg       0.89      0.88      0.88      2000\n",
      "weighted avg       0.89      0.88      0.88      2000\n",
      "\n"
     ]
    }
   ],
   "source": [
    "from sklearn.metrics import accuracy_score, f1_score, classification_report\n",
    "\n",
    "\n",
    "def eval_model(model, data_loader, loss_fn, device, label_encoder):\n",
    "\tmodel.eval()\n",
    "\tcorrect_predictions = 0\n",
    "\ttotal_loss = 0\n",
    "\n",
    "\tall_preds = []\n",
    "\tall_labels = []\n",
    "\n",
    "\twith torch.no_grad():\n",
    "\t\tfor batch in data_loader:\n",
    "\t\t\tinput_ids = batch['input_ids'].to(device)\n",
    "\t\t\tattention_mask = batch['attention_mask'].to(device)\n",
    "\t\t\tlabels = batch['label'].to(device)\n",
    "\n",
    "\t\t\toutputs = model(input_ids=input_ids, attention_mask=attention_mask, labels=labels)\n",
    "\t\t\tloss = outputs.loss\n",
    "\t\t\tlogits = outputs.logits\n",
    "\n",
    "\t\t\ttotal_loss += loss.item()\n",
    "\n",
    "\t\t\t_, preds = torch.max(logits, dim=1)\n",
    "\t\t\tcorrect_predictions += torch.sum(preds == labels)\n",
    "\n",
    "\t\t\t# Store predictions and labels for F1 score calculation\n",
    "\t\t\tall_preds.extend(preds.cpu().numpy())\n",
    "\t\t\tall_labels.extend(labels.cpu().numpy())\n",
    "\t\t\n",
    "\t# Calculate accuracy\n",
    "\taccuracy = correct_predictions.double() / len(data_loader.dataset)\n",
    "\n",
    "\t# Calculate F1 score\n",
    "\tf1 = f1_score(all_labels, all_preds, average='weighted')\n",
    "\n",
    "\t# Get the class names from the label encoder\n",
    "\tclass_names = label_encoder.classes_\n",
    "\n",
    "\t# Calculate classification report\n",
    "\tclassification_rep = classification_report(all_labels, all_preds, target_names=class_names)\n",
    "\n",
    "\treturn accuracy, total_loss / len(data_loader), f1, classification_rep\n",
    "\n",
    "\n",
    "test_acc, test_loss, test_f1, classification_report = eval_model(model, test_dataloader, loss_fn, device, label_encoder)\n",
    "print(f'test_acc: {test_acc:.3f} ; test_loss: {test_loss:.3f}, test_f1: {test_f1:.3f}')\n",
    "print(f\"\\n{classification_report}\")"
   ]
  },
  {
   "cell_type": "markdown",
   "metadata": {},
   "source": [
    "**Save the model**"
   ]
  },
  {
   "cell_type": "code",
   "execution_count": 13,
   "metadata": {},
   "outputs": [
    {
     "name": "stdout",
     "output_type": "stream",
     "text": [
      "✅ Model saved to ../models/google-bert_bert-base-uncased_2024-10-24_22-39-04\n"
     ]
    }
   ],
   "source": [
    "current_datetime = pd.Timestamp.now().strftime(\"%Y-%m-%d_%H-%M-%S\")\n",
    "model_name_clean = model_name.replace(\"/\", \"_\")\n",
    "file_path = f\"../models/{model_name_clean}_{current_datetime}\"\n",
    "\n",
    "torch.save(model.state_dict(), file_path)\n",
    "print(f\"✅ Model saved to {file_path}\")"
   ]
  }
 ],
 "metadata": {
  "kernelspec": {
   "display_name": "Python 3",
   "language": "python",
   "name": "python3"
  },
  "language_info": {
   "codemirror_mode": {
    "name": "ipython",
    "version": 3
   },
   "file_extension": ".py",
   "mimetype": "text/x-python",
   "name": "python",
   "nbconvert_exporter": "python",
   "pygments_lexer": "ipython3",
   "version": "3.12.7"
  }
 },
 "nbformat": 4,
 "nbformat_minor": 2
}
